{
 "cells": [
  {
   "cell_type": "code",
   "execution_count": 1,
   "id": "121ff6ad",
   "metadata": {},
   "outputs": [],
   "source": [
    "import os\n",
    "from dotenv import load_dotenv, find_dotenv"
   ]
  },
  {
   "cell_type": "code",
   "execution_count": 2,
   "id": "90f76615",
   "metadata": {},
   "outputs": [
    {
     "name": "stderr",
     "output_type": "stream",
     "text": [
      "None of PyTorch, TensorFlow >= 2.0, or Flax have been found. Models won't be available and only tokenizers, configuration and file/data utilities can be used.\n"
     ]
    }
   ],
   "source": [
    "import nest_asyncio\n",
    "nest_asyncio.apply()\n",
    "\n",
    "import warnings\n",
    "warnings.filterwarnings(\"ignore\")\n",
    "\n",
    "from llama_index.core import (\n",
    "    PropertyGraphIndex,\n",
    "    SimpleDirectoryReader,\n",
    "    Settings,\n",
    "    StorageContext,\n",
    "    load_index_from_storage\n",
    ")\n",
    "\n",
    "from llama_index.graph_stores.neo4j import Neo4jPropertyGraphStore\n",
    "from llama_index.vector_stores.qdrant import QdrantVectorStore\n",
    "from llama_index.core.indices.property_graph import (\n",
    "    ImplicitPathExtractor,\n",
    "    SimpleLLMPathExtractor\n",
    ")\n",
    "from llama_index.llms.groq import Groq\n",
    "from llama_index.embeddings.ollama import OllamaEmbedding"
   ]
  },
  {
   "cell_type": "code",
   "execution_count": 3,
   "id": "256d00ba",
   "metadata": {},
   "outputs": [
    {
     "name": "stderr",
     "output_type": "stream",
     "text": [
      "Loading files: 100%|██████████| 1/1 [00:00<00:00,  4.10file/s]\n"
     ]
    }
   ],
   "source": [
    "Settings.llm = Groq(\"llama-3.3-70b-versatile\")\n",
    "Settings.embed_model=OllamaEmbedding(model_name=\"nomic-embed-text\")\n",
    "documents = SimpleDirectoryReader(input_files=[\"../docs/MBA_Worth_It.pdf\"]).load_data(show_progress=True)"
   ]
  },
  {
   "cell_type": "code",
   "execution_count": 4,
   "id": "e52c5292",
   "metadata": {},
   "outputs": [],
   "source": [
    "graph_store = Neo4jPropertyGraphStore(\n",
    "    username=\"neo4j\",\n",
    "    password=\"llamaindex\",\n",
    "    url=\"bolt://localhost:7687\",\n",
    ")"
   ]
  },
  {
   "cell_type": "code",
   "execution_count": 5,
   "id": "83275f3f",
   "metadata": {},
   "outputs": [],
   "source": [
    "from qdrant_client import QdrantClient, AsyncQdrantClient\n",
    "\n",
    "client = QdrantClient(\n",
    "    host=\"localhost\",\n",
    "    port=6333\n",
    ")\n",
    "aclient = AsyncQdrantClient(\n",
    "    host=\"localhost\",\n",
    "    port=6333\n",
    ")\n",
    "\n",
    "vector_store = QdrantVectorStore(\n",
    "    collection_name=\"mba\",\n",
    "    client=client,\n",
    "    aclient=aclient,\n",
    "    prefer_grpc=True,\n",
    ")"
   ]
  },
  {
   "cell_type": "code",
   "execution_count": 6,
   "id": "27bcd350",
   "metadata": {},
   "outputs": [
    {
     "data": {
      "application/vnd.jupyter.widget-view+json": {
       "model_id": "5ec782a866f94c748b0172e038c8a9a5",
       "version_major": 2,
       "version_minor": 0
      },
      "text/plain": [
       "Parsing nodes:   0%|          | 0/7 [00:00<?, ?it/s]"
      ]
     },
     "metadata": {},
     "output_type": "display_data"
    },
    {
     "name": "stderr",
     "output_type": "stream",
     "text": [
      "Extracting implicit paths: 100%|██████████| 16/16 [00:00<00:00, 91929.95it/s]\n",
      "Extracting paths from text: 100%|██████████| 16/16 [00:34<00:00,  2.14s/it]\n",
      "Generating embeddings: 100%|██████████| 2/2 [00:00<00:00,  2.36it/s]\n",
      "Generating embeddings: 100%|██████████| 35/35 [00:03<00:00,  9.90it/s]\n"
     ]
    }
   ],
   "source": [
    "index = PropertyGraphIndex.from_documents(\n",
    "    documents,\n",
    "    kg_extractors = [\n",
    "        ImplicitPathExtractor(),\n",
    "        SimpleLLMPathExtractor(\n",
    "            num_workers = 4,\n",
    "            max_paths_per_chunk = 10,\n",
    "        )\n",
    "    ],\n",
    "    show_progress=True,\n",
    "    property_graph_store=graph_store,\n",
    "    vector_store=vector_store,\n",
    ")"
   ]
  },
  {
   "cell_type": "code",
   "execution_count": 22,
   "id": "0f7b9bcc",
   "metadata": {},
   "outputs": [],
   "source": [
    "query_engine = index.as_query_engine(\n",
    "    include_text=True,\n",
    "    similarity_top_k=4\n",
    ")"
   ]
  },
  {
   "cell_type": "code",
   "execution_count": 23,
   "id": "e4c64dbe",
   "metadata": {},
   "outputs": [
    {
     "name": "stdout",
     "output_type": "stream",
     "text": [
      "Mba -> Is -> Graduate degree\n",
      "Mba degree -> Offers -> Professional development\n",
      "Mba -> Accelerates -> Professional development\n",
      "Business school -> Offer -> Great time to gain exposure\n",
      "Business school -> Provide -> Exposure to faculty\n",
      "Business school -> Provide -> Exposure to peers\n",
      "Some students -> Come to -> Business school\n",
      "Business school -> Provides -> Academic benefits\n",
      "Business school -> Provide -> Exposure to alumni network\n",
      "Business school -> Requires -> Academic effort\n",
      "Business school -> May not be -> Right step\n",
      "Business school -> Offers -> Financial support\n",
      "Mba -> Is planned for -> Career advancement\n"
     ]
    }
   ],
   "source": [
    "retriever = index.as_retriever(include_text=False)\n",
    "nodes = retriever.retrieve(\"What are some considerations when deciding whether or not to embark on an MBA?\")\n",
    "for node in nodes:\n",
    "    print(node.text)"
   ]
  },
  {
   "cell_type": "code",
   "execution_count": 24,
   "id": "ced5a827",
   "metadata": {},
   "outputs": [],
   "source": [
    "query_engine = index.as_query_engine(include_text=True)\n",
    "\n",
    "response = query_engine.query(\"What are some reasons to take an MBA?\")"
   ]
  },
  {
   "cell_type": "code",
   "execution_count": 25,
   "id": "e5cdbcf8",
   "metadata": {},
   "outputs": [
    {
     "data": {
      "text/markdown": [
       "One reason to take an MBA is for career advancement. It is also implied that having an MBA can help individuals get to where they want to go in their careers, as it is a part of planning for career goals."
      ],
      "text/plain": [
       "<IPython.core.display.Markdown object>"
      ]
     },
     "metadata": {},
     "output_type": "display_data"
    }
   ],
   "source": [
    "from IPython.display import display, Markdown\n",
    "\n",
    "display(Markdown(str(response)))"
   ]
  },
  {
   "cell_type": "code",
   "execution_count": 26,
   "id": "f366fd35",
   "metadata": {},
   "outputs": [
    {
     "data": {
      "text/markdown": [
       "Some considerations when deciding whether or not to embark on an MBA include reflecting on your current situation, identifying areas for improvement, and determining what skills you need to acquire. It's essential to think about where you are, where you want to go, and what it will take to get you there. You should also consider whether an MBA will help you achieve your career ambitions and if it's the right step for you. Additionally, you may want to explore different specializations and concentrations within MBA programs to find the best fit for your goals. Ultimately, making the right decision requires careful thought and consideration of your motivations, goals, and circumstances."
      ],
      "text/plain": [
       "<IPython.core.display.Markdown object>"
      ]
     },
     "metadata": {},
     "output_type": "display_data"
    }
   ],
   "source": [
    "response = query_engine.query(\"What are some considerations when deciding whether or not to embark on an MBA?\")\n",
    "\n",
    "display(Markdown(str(response)))"
   ]
  },
  {
   "cell_type": "code",
   "execution_count": 27,
   "id": "9f8b1f9b",
   "metadata": {},
   "outputs": [
    {
     "data": {
      "text/markdown": [
       "The right motivations for an MBA include a desire for professional development, a wish to attain leadership skills, and a plan for career advancement. It is also important to have a clear understanding of where you are, where you want to go, and what it will take to get there. Additionally, having a couple of years of hands-on work experience before pursuing an MBA can help you figure out what areas you want to focus on and make the most out of your time."
      ],
      "text/plain": [
       "<IPython.core.display.Markdown object>"
      ]
     },
     "metadata": {},
     "output_type": "display_data"
    }
   ],
   "source": [
    "response = query_engine.query(\"What are the right motivations for an MBA?\")\n",
    "\n",
    "display(Markdown(str(response)))"
   ]
  },
  {
   "cell_type": "code",
   "execution_count": 33,
   "id": "5988efbb",
   "metadata": {},
   "outputs": [
    {
     "data": {
      "text/markdown": [
       "Empty Response"
      ],
      "text/plain": [
       "<IPython.core.display.Markdown object>"
      ]
     },
     "metadata": {},
     "output_type": "display_data"
    }
   ],
   "source": [
    "response = query_engine.query(\"What are the wrong motivations to take an MBA?\")\n",
    "\n",
    "display(Markdown(str(response)))"
   ]
  },
  {
   "cell_type": "markdown",
   "id": "3fa67556",
   "metadata": {},
   "source": [
    "Why empty?!"
   ]
  },
  {
   "cell_type": "code",
   "execution_count": 37,
   "id": "7e97903b",
   "metadata": {},
   "outputs": [
    {
     "data": {
      "text/markdown": [
       "An MBA offers several benefits, including a bigger paycheck, access to job opportunities, and a stronger professional network. It also helps individuals hone their skills, diversify their professional network, and make a career pivot. Additionally, an MBA provides access to connections and accelerates professional development. Overall, it can be a valuable investment for career advancement."
      ],
      "text/plain": [
       "<IPython.core.display.Markdown object>"
      ]
     },
     "metadata": {},
     "output_type": "display_data"
    }
   ],
   "source": [
    "response = query_engine.query(\"Why should anyone do an MBA?\")\n",
    "\n",
    "display(Markdown(str(response)))"
   ]
  },
  {
   "cell_type": "code",
   "execution_count": 38,
   "id": "9493907e",
   "metadata": {},
   "outputs": [
    {
     "data": {
      "text/markdown": [
       "It requires a significant amount of time, money, effort, and hard work. Additionally, around 51% of MBA students end up taking out student loans to finance their education, which can be a significant financial burden. The cost alone is a considerable factor to consider, and it may not be the right decision for everyone."
      ],
      "text/plain": [
       "<IPython.core.display.Markdown object>"
      ]
     },
     "metadata": {},
     "output_type": "display_data"
    }
   ],
   "source": [
    "response = query_engine.query(\"Why should anyone not do an MBA?\")\n",
    "\n",
    "display(Markdown(str(response)))"
   ]
  },
  {
   "cell_type": "code",
   "execution_count": 46,
   "id": "827252a5",
   "metadata": {},
   "outputs": [
    {
     "data": {
      "text/markdown": [
       "To decide on whether to do an MBA, one should consider where they are, where they want to go, and what it will take to get them there. This involves thinking about their current situation, their career goals, and the potential benefits and costs of pursuing an MBA. It's also important to look beyond just the cost and consider other factors, such as the potential for career advancement, networking opportunities, and personal development. By weighing these factors and considering their individual circumstances, individuals can make an informed decision about whether an MBA is right for them."
      ],
      "text/plain": [
       "<IPython.core.display.Markdown object>"
      ]
     },
     "metadata": {},
     "output_type": "display_data"
    }
   ],
   "source": [
    "response = query_engine.query(\"So how should anyone decide on whether to do an MBA?\")\n",
    "\n",
    "display(Markdown(str(response)))"
   ]
  },
  {
   "cell_type": "markdown",
   "id": "48f972a9",
   "metadata": {},
   "source": [
    "## Vector Store Index"
   ]
  },
  {
   "cell_type": "code",
   "execution_count": 43,
   "id": "c5d839ae",
   "metadata": {},
   "outputs": [],
   "source": [
    "from llama_index.core import VectorStoreIndex, StorageContext\n",
    "\n",
    "vector_store2 = QdrantVectorStore(\n",
    "    collection_name=\"mba_vectors_only\",\n",
    "    client=client,\n",
    "    aclient=aclient,\n",
    "    prefer_grpc=True,\n",
    ")\n",
    "storage_context = StorageContext.from_defaults(vector_store=vector_store2)\n",
    "index2 = VectorStoreIndex.from_documents(\n",
    "    documents,\n",
    "    storage_context=storage_context\n",
    ")"
   ]
  },
  {
   "cell_type": "code",
   "execution_count": 44,
   "id": "97509f9a",
   "metadata": {},
   "outputs": [
    {
     "data": {
      "text/markdown": [
       "The text does not explicitly state the wrong motivations to take an MBA, but it implies that cost alone should not be the deciding factor. It suggests that considering only the financial aspect may not be a sufficient reason to pursue an MBA. However, it does not provide a clear list of wrong motivations."
      ],
      "text/plain": [
       "<IPython.core.display.Markdown object>"
      ]
     },
     "metadata": {},
     "output_type": "display_data"
    }
   ],
   "source": [
    "query_engine2 = index2.as_query_engine(similarity_top_k=4)\n",
    "response = query_engine2.query(\"What are the wrong motivations to take an MBA?\")\n",
    "\n",
    "display(Markdown(str(response)))"
   ]
  },
  {
   "cell_type": "code",
   "execution_count": 45,
   "id": "a72892e5",
   "metadata": {},
   "outputs": [
    {
     "data": {
      "text/markdown": [
       "Some considerations when deciding whether or not to embark on an MBA include the time, money, and effort required, as well as the potential benefits such as honing skills like influence, empathy, and building business strategies, making a career pivot, accelerating professional development, and expanding and diversifying one's professional network. Additionally, the cost of an MBA should not be the sole deciding factor, as there are alternative ways to finance it, such as fellowships and employer sponsorships."
      ],
      "text/plain": [
       "<IPython.core.display.Markdown object>"
      ]
     },
     "metadata": {},
     "output_type": "display_data"
    }
   ],
   "source": [
    "response = query_engine2.query(\"What are some considerations when deciding whether or not to embark on an MBA?\")\n",
    "\n",
    "display(Markdown(str(response)))"
   ]
  },
  {
   "cell_type": "code",
   "execution_count": null,
   "id": "2922db02",
   "metadata": {},
   "outputs": [],
   "source": []
  }
 ],
 "metadata": {
  "kernelspec": {
   "display_name": ".venv",
   "language": "python",
   "name": "python3"
  },
  "language_info": {
   "codemirror_mode": {
    "name": "ipython",
    "version": 3
   },
   "file_extension": ".py",
   "mimetype": "text/x-python",
   "name": "python",
   "nbconvert_exporter": "python",
   "pygments_lexer": "ipython3",
   "version": "3.12.5"
  }
 },
 "nbformat": 4,
 "nbformat_minor": 5
}
