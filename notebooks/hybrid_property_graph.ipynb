{
 "cells": [
  {
   "cell_type": "code",
   "execution_count": 1,
   "id": "121ff6ad",
   "metadata": {},
   "outputs": [],
   "source": [
    "import os\n",
    "from dotenv import load_dotenv, find_dotenv"
   ]
  },
  {
   "cell_type": "code",
   "execution_count": 2,
   "id": "90f76615",
   "metadata": {},
   "outputs": [
    {
     "name": "stderr",
     "output_type": "stream",
     "text": [
      "None of PyTorch, TensorFlow >= 2.0, or Flax have been found. Models won't be available and only tokenizers, configuration and file/data utilities can be used.\n"
     ]
    }
   ],
   "source": [
    "import nest_asyncio\n",
    "nest_asyncio.apply()\n",
    "\n",
    "import warnings\n",
    "warnings.filterwarnings(\"ignore\")\n",
    "\n",
    "from llama_index.core import (\n",
    "    PropertyGraphIndex,\n",
    "    SimpleDirectoryReader,\n",
    "    Settings,\n",
    "    StorageContext,\n",
    "    load_index_from_storage\n",
    ")\n",
    "\n",
    "from llama_index.graph_stores.neo4j import Neo4jPropertyGraphStore\n",
    "from llama_index.vector_stores.qdrant import QdrantVectorStore\n",
    "from llama_index.core.indices.property_graph import (\n",
    "    ImplicitPathExtractor,\n",
    "    SimpleLLMPathExtractor\n",
    ")\n",
    "from llama_index.llms.groq import Groq\n",
    "from llama_index.embeddings.ollama import OllamaEmbedding"
   ]
  },
  {
   "cell_type": "code",
   "execution_count": 3,
   "id": "256d00ba",
   "metadata": {},
   "outputs": [
    {
     "name": "stderr",
     "output_type": "stream",
     "text": [
      "Loading files: 100%|██████████| 1/1 [00:00<00:00,  4.10file/s]\n"
     ]
    }
   ],
   "source": [
    "Settings.llm = Groq(\"llama-3.3-70b-versatile\")\n",
    "Settings.embed_model=OllamaEmbedding(model_name=\"nomic-embed-text\")\n",
    "documents = SimpleDirectoryReader(input_files=[\"../docs/MBA_Worth_It.pdf\"]).load_data(show_progress=True)"
   ]
  },
  {
   "cell_type": "code",
   "execution_count": 4,
   "id": "e52c5292",
   "metadata": {},
   "outputs": [],
   "source": [
    "graph_store = Neo4jPropertyGraphStore(\n",
    "    username=\"neo4j\",\n",
    "    password=\"llamaindex\",\n",
    "    url=\"bolt://localhost:7687\",\n",
    ")"
   ]
  },
  {
   "cell_type": "code",
   "execution_count": 5,
   "id": "83275f3f",
   "metadata": {},
   "outputs": [],
   "source": [
    "from qdrant_client import QdrantClient, AsyncQdrantClient\n",
    "\n",
    "client = QdrantClient(\n",
    "    host=\"localhost\",\n",
    "    port=6333\n",
    ")\n",
    "aclient = AsyncQdrantClient(\n",
    "    host=\"localhost\",\n",
    "    port=6333\n",
    ")\n",
    "\n",
    "vector_store = QdrantVectorStore(\n",
    "    collection_name=\"mba\",\n",
    "    client=client,\n",
    "    aclient=aclient,\n",
    "    prefer_grpc=True,\n",
    ")"
   ]
  },
  {
   "cell_type": "code",
   "execution_count": 6,
   "id": "27bcd350",
   "metadata": {},
   "outputs": [
    {
     "data": {
      "application/vnd.jupyter.widget-view+json": {
       "model_id": "5ec782a866f94c748b0172e038c8a9a5",
       "version_major": 2,
       "version_minor": 0
      },
      "text/plain": [
       "Parsing nodes:   0%|          | 0/7 [00:00<?, ?it/s]"
      ]
     },
     "metadata": {},
     "output_type": "display_data"
    },
    {
     "name": "stderr",
     "output_type": "stream",
     "text": [
      "Extracting implicit paths: 100%|██████████| 16/16 [00:00<00:00, 91929.95it/s]\n",
      "Extracting paths from text: 100%|██████████| 16/16 [00:34<00:00,  2.14s/it]\n",
      "Generating embeddings: 100%|██████████| 2/2 [00:00<00:00,  2.36it/s]\n",
      "Generating embeddings: 100%|██████████| 35/35 [00:03<00:00,  9.90it/s]\n"
     ]
    }
   ],
   "source": [
    "index = PropertyGraphIndex.from_documents(\n",
    "    documents,\n",
    "    kg_extractors = [\n",
    "        ImplicitPathExtractor(),\n",
    "        SimpleLLMPathExtractor(\n",
    "            num_workers = 4,\n",
    "            max_paths_per_chunk = 10,\n",
    "        )\n",
    "    ],\n",
    "    show_progress=True,\n",
    "    property_graph_store=graph_store,\n",
    "    vector_store=vector_store,\n",
    ")"
   ]
  },
  {
   "cell_type": "code",
   "execution_count": null,
   "id": "0f7b9bcc",
   "metadata": {},
   "outputs": [],
   "source": [
    "query_engine = index.as_query_engine(\n",
    "    include_text=True,\n",
    "    similarity_top_k=8,\n",
    "    graph_traversal_depth=2,\n",
    ")"
   ]
  },
  {
   "cell_type": "code",
   "execution_count": 50,
   "id": "e4c64dbe",
   "metadata": {},
   "outputs": [
    {
     "name": "stdout",
     "output_type": "stream",
     "text": [
      "Mba degree -> Offers -> Professional development\n",
      "Mba -> Accelerates -> Professional development\n",
      "Mba -> Is -> Graduate degree\n",
      "Mba -> Is planned for -> Career advancement\n",
      "Business school -> Offer -> Great time to gain exposure\n",
      "Business school -> Provide -> Exposure to faculty\n",
      "Business school -> Provide -> Exposure to peers\n",
      "Some students -> Come to -> Business school\n",
      "Business school -> Provides -> Academic benefits\n",
      "Business school -> Provide -> Exposure to alumni network\n",
      "Business school -> Requires -> Academic effort\n",
      "Business school -> May not be -> Right step\n",
      "Business school -> Offers -> Financial support\n"
     ]
    }
   ],
   "source": [
    "retriever = index.as_retriever(include_text=False)\n",
    "nodes = retriever.retrieve(\"What are some considerations when deciding whether or not to embark on an MBA?\")\n",
    "for node in nodes:\n",
    "    print(node.text)"
   ]
  },
  {
   "cell_type": "code",
   "execution_count": 68,
   "id": "ced5a827",
   "metadata": {},
   "outputs": [],
   "source": [
    "response = query_engine.query(\"What are some reasons to take an MBA?\")"
   ]
  },
  {
   "cell_type": "code",
   "execution_count": 69,
   "id": "e5cdbcf8",
   "metadata": {},
   "outputs": [
    {
     "data": {
      "text/markdown": [
       "One reason to take an MBA is for career advancement. It is also implied that having an MBA can help individuals get to where they want to be in their careers, as it is part of a larger plan to achieve their goals."
      ],
      "text/plain": [
       "<IPython.core.display.Markdown object>"
      ]
     },
     "metadata": {},
     "output_type": "display_data"
    }
   ],
   "source": [
    "from IPython.display import display, Markdown\n",
    "\n",
    "display(Markdown(str(response)))"
   ]
  },
  {
   "cell_type": "code",
   "execution_count": 70,
   "id": "f366fd35",
   "metadata": {},
   "outputs": [
    {
     "data": {
      "text/markdown": [
       "Some considerations when deciding whether or not to embark on an MBA include reflecting on your current situation, thinking about where you are, where you want to go, and what it will take to get you there. It's also important to consider why you want to pursue an MBA, as it may not be the right step for everyone, especially if you're just looking to escape boredom or frustration in your current job. You should also think about what skills you need to acquire and whether an MBA will provide the necessary resources and leadership skills to help you achieve your career ambitions. Additionally, considering the various specializations and concentrations available in MBA programs can help you determine if it's the right fit for your career goals."
      ],
      "text/plain": [
       "<IPython.core.display.Markdown object>"
      ]
     },
     "metadata": {},
     "output_type": "display_data"
    }
   ],
   "source": [
    "response = query_engine.query(\"What are some considerations when deciding whether or not to embark on an MBA?\")\n",
    "\n",
    "display(Markdown(str(response)))"
   ]
  },
  {
   "cell_type": "code",
   "execution_count": 71,
   "id": "9f8b1f9b",
   "metadata": {},
   "outputs": [
    {
     "data": {
      "text/markdown": [
       "The right motivations for an MBA include career advancement, professional development, and gaining access to more senior roles with higher salaries. It's also about figuring out what areas you want to focus on and making the most of your time to accelerate your career path. Additionally, having a clear understanding of where you are, where you want to go, and what it will take to get you there is crucial in making the right decision."
      ],
      "text/plain": [
       "<IPython.core.display.Markdown object>"
      ]
     },
     "metadata": {},
     "output_type": "display_data"
    }
   ],
   "source": [
    "response = query_engine.query(\"What are the right motivations for an MBA?\")\n",
    "\n",
    "display(Markdown(str(response)))"
   ]
  },
  {
   "cell_type": "code",
   "execution_count": 58,
   "id": "5988efbb",
   "metadata": {},
   "outputs": [
    {
     "data": {
      "text/markdown": [
       "Empty Response"
      ],
      "text/plain": [
       "<IPython.core.display.Markdown object>"
      ]
     },
     "metadata": {},
     "output_type": "display_data"
    }
   ],
   "source": [
    "response = query_engine.query(\"What are the wrong motivations to take an MBA?\")\n",
    "\n",
    "display(Markdown(str(response)))"
   ]
  },
  {
   "cell_type": "markdown",
   "id": "3fa67556",
   "metadata": {},
   "source": [
    "Why empty?!"
   ]
  },
  {
   "cell_type": "code",
   "execution_count": 59,
   "id": "7e97903b",
   "metadata": {},
   "outputs": [
    {
     "data": {
      "text/markdown": [
       "An MBA offers several benefits, including a bigger paycheck, access to job opportunities, and a stronger professional network. It also helps individuals hone their skills, diversify their professional network, and make a career pivot. Additionally, an MBA provides access to connections and can accelerate professional development. Overall, it can be a valuable investment for career advancement."
      ],
      "text/plain": [
       "<IPython.core.display.Markdown object>"
      ]
     },
     "metadata": {},
     "output_type": "display_data"
    }
   ],
   "source": [
    "response = query_engine.query(\"Why should anyone do an MBA?\")\n",
    "\n",
    "display(Markdown(str(response)))"
   ]
  },
  {
   "cell_type": "code",
   "execution_count": 60,
   "id": "9493907e",
   "metadata": {},
   "outputs": [
    {
     "data": {
      "text/markdown": [
       "It can be costly, requiring a significant amount of money, and may also involve taking out student loans, as around 51% of MBA students do. Additionally, it takes time, typically a few years, and effort, which may be a deterrent for some individuals. The cost alone, although not the only deciding factor, can be a significant consideration. Furthermore, it requires proactivity and passion, which may not be suitable for everyone."
      ],
      "text/plain": [
       "<IPython.core.display.Markdown object>"
      ]
     },
     "metadata": {},
     "output_type": "display_data"
    }
   ],
   "source": [
    "response = query_engine.query(\"Why should anyone not do an MBA?\")\n",
    "\n",
    "display(Markdown(str(response)))"
   ]
  },
  {
   "cell_type": "code",
   "execution_count": 61,
   "id": "827252a5",
   "metadata": {},
   "outputs": [
    {
     "data": {
      "text/markdown": [
       "To decide on whether to do an MBA, one should consider where they are, where they want to go, and what it will take to get them there. They should think about their career goals and how an MBA can help them achieve those goals. It's also important to consider the cost and explore the various ways to pay for an MBA, such as fellowships, employer sponsorships, and student loans. Ultimately, the decision to pursue an MBA should be based on a careful consideration of the potential benefits and drawbacks, and whether it aligns with their overall career aspirations."
      ],
      "text/plain": [
       "<IPython.core.display.Markdown object>"
      ]
     },
     "metadata": {},
     "output_type": "display_data"
    }
   ],
   "source": [
    "response = query_engine.query(\"So how should anyone decide on whether to do an MBA?\")\n",
    "\n",
    "display(Markdown(str(response)))"
   ]
  },
  {
   "cell_type": "markdown",
   "id": "48f972a9",
   "metadata": {},
   "source": [
    "## Vector Store Index"
   ]
  },
  {
   "cell_type": "code",
   "execution_count": 62,
   "id": "c5d839ae",
   "metadata": {},
   "outputs": [],
   "source": [
    "from llama_index.core import VectorStoreIndex, StorageContext\n",
    "\n",
    "vector_store2 = QdrantVectorStore(\n",
    "    collection_name=\"mba_vectors_only\",\n",
    "    client=client,\n",
    "    aclient=aclient,\n",
    "    prefer_grpc=True,\n",
    ")\n",
    "storage_context = StorageContext.from_defaults(vector_store=vector_store2)\n",
    "index2 = VectorStoreIndex.from_documents(\n",
    "    documents,\n",
    "    storage_context=storage_context\n",
    ")"
   ]
  },
  {
   "cell_type": "code",
   "execution_count": 65,
   "id": "97509f9a",
   "metadata": {},
   "outputs": [
    {
     "data": {
      "text/markdown": [
       "Cost alone should not be the deciding factor."
      ],
      "text/plain": [
       "<IPython.core.display.Markdown object>"
      ]
     },
     "metadata": {},
     "output_type": "display_data"
    }
   ],
   "source": [
    "query_engine2 = index2.as_query_engine(similarity_top_k=4)\n",
    "response = query_engine2.query(\"What are the wrong motivations to take an MBA?\")\n",
    "\n",
    "display(Markdown(str(response)))"
   ]
  },
  {
   "cell_type": "code",
   "execution_count": 66,
   "id": "a72892e5",
   "metadata": {},
   "outputs": [
    {
     "data": {
      "text/markdown": [
       "When deciding whether or not to embark on an MBA, some considerations include the cost of the program and how to finance it, as around 51% of students take out loans. However, cost alone should not be the deciding factor. Other considerations include the potential for fellowships and employer sponsorships to help pay for the program. Additionally, the potential career outcomes and the skills gained through the program, such as academic, interpersonal, and leadership skills, should be taken into account, as these can put graduates on an accelerated path into leadership positions and prepare them to solve complex business problems."
      ],
      "text/plain": [
       "<IPython.core.display.Markdown object>"
      ]
     },
     "metadata": {},
     "output_type": "display_data"
    }
   ],
   "source": [
    "response = query_engine2.query(\"What are some considerations when deciding whether or not to embark on an MBA?\")\n",
    "\n",
    "display(Markdown(str(response)))"
   ]
  },
  {
   "cell_type": "code",
   "execution_count": null,
   "id": "2922db02",
   "metadata": {},
   "outputs": [],
   "source": []
  }
 ],
 "metadata": {
  "kernelspec": {
   "display_name": ".venv",
   "language": "python",
   "name": "python3"
  },
  "language_info": {
   "codemirror_mode": {
    "name": "ipython",
    "version": 3
   },
   "file_extension": ".py",
   "mimetype": "text/x-python",
   "name": "python",
   "nbconvert_exporter": "python",
   "pygments_lexer": "ipython3",
   "version": "3.12.5"
  }
 },
 "nbformat": 4,
 "nbformat_minor": 5
}
